{
 "cells": [
  {
   "cell_type": "markdown",
   "id": "dd015fd5",
   "metadata": {},
   "source": [
    "# FIFA 23 Official Dataset \n",
    "## Step 1: Load and Explore the Dataset\n",
    "In this step, we will:\n",
    "- Download the dataset from Kaggle `https://www.kaggle.com/datasets/bryanb/fifa-player-stats-database/data?select=FIFA23_official_data.csv`\n",
    "- Set up our environment\n",
    "- Load the dataset into a Pandas DataFrame\n",
    "- Explore the dataset to understand its structure\n"
   ]
  },
  {
   "cell_type": "markdown",
   "id": "5cb2e7fc",
   "metadata": {},
   "source": [
    "### Step 1.1: Install Required Libraries\n",
    "Run the following command to ensure you have the necessary Python libraries installed "
   ]
  },
  {
   "cell_type": "code",
   "execution_count": 3,
   "id": "327ea2ca",
   "metadata": {},
   "outputs": [
    {
     "name": "stdout",
     "output_type": "stream",
     "text": [
      "Requirement already satisfied: pandas in c:\\users\\dell\\anaconda3\\lib\\site-packages (2.0.3)\n",
      "Requirement already satisfied: numpy in c:\\users\\dell\\anaconda3\\lib\\site-packages (1.24.3)\n",
      "Requirement already satisfied: matplotlib in c:\\users\\dell\\anaconda3\\lib\\site-packages (3.7.2)\n",
      "Requirement already satisfied: seaborn in c:\\users\\dell\\anaconda3\\lib\\site-packages (0.12.2)\n",
      "Requirement already satisfied: python-dateutil>=2.8.2 in c:\\users\\dell\\anaconda3\\lib\\site-packages (from pandas) (2.8.2)\n",
      "Requirement already satisfied: pytz>=2020.1 in c:\\users\\dell\\anaconda3\\lib\\site-packages (from pandas) (2023.3.post1)\n",
      "Requirement already satisfied: tzdata>=2022.1 in c:\\users\\dell\\anaconda3\\lib\\site-packages (from pandas) (2023.3)\n",
      "Requirement already satisfied: contourpy>=1.0.1 in c:\\users\\dell\\anaconda3\\lib\\site-packages (from matplotlib) (1.0.5)\n",
      "Requirement already satisfied: cycler>=0.10 in c:\\users\\dell\\anaconda3\\lib\\site-packages (from matplotlib) (0.11.0)\n",
      "Requirement already satisfied: fonttools>=4.22.0 in c:\\users\\dell\\anaconda3\\lib\\site-packages (from matplotlib) (4.25.0)\n",
      "Requirement already satisfied: kiwisolver>=1.0.1 in c:\\users\\dell\\anaconda3\\lib\\site-packages (from matplotlib) (1.4.4)\n",
      "Requirement already satisfied: packaging>=20.0 in c:\\users\\dell\\anaconda3\\lib\\site-packages (from matplotlib) (23.1)\n",
      "Requirement already satisfied: pillow>=6.2.0 in c:\\users\\dell\\anaconda3\\lib\\site-packages (from matplotlib) (9.4.0)\n",
      "Requirement already satisfied: pyparsing<3.1,>=2.3.1 in c:\\users\\dell\\anaconda3\\lib\\site-packages (from matplotlib) (3.0.9)\n",
      "Requirement already satisfied: six>=1.5 in c:\\users\\dell\\anaconda3\\lib\\site-packages (from python-dateutil>=2.8.2->pandas) (1.16.0)\n"
     ]
    }
   ],
   "source": [
    "!pip install pandas numpy matplotlib seaborn"
   ]
  },
  {
   "cell_type": "markdown",
   "id": "b06f5ae3",
   "metadata": {},
   "source": [
    "### Results:\n",
    "The necessary libraries (`pandas`, `numpy`, `matplotlib`, and `seaborn`) are now installed."
   ]
  },
  {
   "cell_type": "markdown",
   "id": "3fd1332d",
   "metadata": {},
   "source": [
    "### Step 1.2: Load the Dataset\n",
    "Use Pandas to load the CSV file into a DataFrame.\n",
    "If you want to test it locally make sure you update the location of your dataset"
   ]
  },
  {
   "cell_type": "code",
   "execution_count": 4,
   "id": "0bc94989",
   "metadata": {},
   "outputs": [
    {
     "data": {
      "text/html": [
       "<div>\n",
       "<style scoped>\n",
       "    .dataframe tbody tr th:only-of-type {\n",
       "        vertical-align: middle;\n",
       "    }\n",
       "\n",
       "    .dataframe tbody tr th {\n",
       "        vertical-align: top;\n",
       "    }\n",
       "\n",
       "    .dataframe thead th {\n",
       "        text-align: right;\n",
       "    }\n",
       "</style>\n",
       "<table border=\"1\" class=\"dataframe\">\n",
       "  <thead>\n",
       "    <tr style=\"text-align: right;\">\n",
       "      <th></th>\n",
       "      <th>ID</th>\n",
       "      <th>Name</th>\n",
       "      <th>Age</th>\n",
       "      <th>Photo</th>\n",
       "      <th>Nationality</th>\n",
       "      <th>Flag</th>\n",
       "      <th>Overall</th>\n",
       "      <th>Potential</th>\n",
       "      <th>Club</th>\n",
       "      <th>Club Logo</th>\n",
       "      <th>...</th>\n",
       "      <th>Real Face</th>\n",
       "      <th>Position</th>\n",
       "      <th>Joined</th>\n",
       "      <th>Loaned From</th>\n",
       "      <th>Contract Valid Until</th>\n",
       "      <th>Height</th>\n",
       "      <th>Weight</th>\n",
       "      <th>Release Clause</th>\n",
       "      <th>Kit Number</th>\n",
       "      <th>Best Overall Rating</th>\n",
       "    </tr>\n",
       "  </thead>\n",
       "  <tbody>\n",
       "    <tr>\n",
       "      <th>0</th>\n",
       "      <td>209658</td>\n",
       "      <td>L. Goretzka</td>\n",
       "      <td>27</td>\n",
       "      <td>https://cdn.sofifa.net/players/209/658/23_60.png</td>\n",
       "      <td>Germany</td>\n",
       "      <td>https://cdn.sofifa.net/flags/de.png</td>\n",
       "      <td>87</td>\n",
       "      <td>88</td>\n",
       "      <td>FC Bayern München</td>\n",
       "      <td>https://cdn.sofifa.net/teams/21/30.png</td>\n",
       "      <td>...</td>\n",
       "      <td>Yes</td>\n",
       "      <td>&lt;span class=\"pos pos28\"&gt;SUB</td>\n",
       "      <td>Jul 1, 2018</td>\n",
       "      <td>NaN</td>\n",
       "      <td>2026</td>\n",
       "      <td>189cm</td>\n",
       "      <td>82kg</td>\n",
       "      <td>€157M</td>\n",
       "      <td>8.0</td>\n",
       "      <td>NaN</td>\n",
       "    </tr>\n",
       "    <tr>\n",
       "      <th>1</th>\n",
       "      <td>212198</td>\n",
       "      <td>Bruno Fernandes</td>\n",
       "      <td>27</td>\n",
       "      <td>https://cdn.sofifa.net/players/212/198/23_60.png</td>\n",
       "      <td>Portugal</td>\n",
       "      <td>https://cdn.sofifa.net/flags/pt.png</td>\n",
       "      <td>86</td>\n",
       "      <td>87</td>\n",
       "      <td>Manchester United</td>\n",
       "      <td>https://cdn.sofifa.net/teams/11/30.png</td>\n",
       "      <td>...</td>\n",
       "      <td>Yes</td>\n",
       "      <td>&lt;span class=\"pos pos15\"&gt;LCM</td>\n",
       "      <td>Jan 30, 2020</td>\n",
       "      <td>NaN</td>\n",
       "      <td>2026</td>\n",
       "      <td>179cm</td>\n",
       "      <td>69kg</td>\n",
       "      <td>€155M</td>\n",
       "      <td>8.0</td>\n",
       "      <td>NaN</td>\n",
       "    </tr>\n",
       "    <tr>\n",
       "      <th>2</th>\n",
       "      <td>224334</td>\n",
       "      <td>M. Acuña</td>\n",
       "      <td>30</td>\n",
       "      <td>https://cdn.sofifa.net/players/224/334/23_60.png</td>\n",
       "      <td>Argentina</td>\n",
       "      <td>https://cdn.sofifa.net/flags/ar.png</td>\n",
       "      <td>85</td>\n",
       "      <td>85</td>\n",
       "      <td>Sevilla FC</td>\n",
       "      <td>https://cdn.sofifa.net/teams/481/30.png</td>\n",
       "      <td>...</td>\n",
       "      <td>No</td>\n",
       "      <td>&lt;span class=\"pos pos7\"&gt;LB</td>\n",
       "      <td>Sep 14, 2020</td>\n",
       "      <td>NaN</td>\n",
       "      <td>2024</td>\n",
       "      <td>172cm</td>\n",
       "      <td>69kg</td>\n",
       "      <td>€97.7M</td>\n",
       "      <td>19.0</td>\n",
       "      <td>NaN</td>\n",
       "    </tr>\n",
       "    <tr>\n",
       "      <th>3</th>\n",
       "      <td>192985</td>\n",
       "      <td>K. De Bruyne</td>\n",
       "      <td>31</td>\n",
       "      <td>https://cdn.sofifa.net/players/192/985/23_60.png</td>\n",
       "      <td>Belgium</td>\n",
       "      <td>https://cdn.sofifa.net/flags/be.png</td>\n",
       "      <td>91</td>\n",
       "      <td>91</td>\n",
       "      <td>Manchester City</td>\n",
       "      <td>https://cdn.sofifa.net/teams/10/30.png</td>\n",
       "      <td>...</td>\n",
       "      <td>Yes</td>\n",
       "      <td>&lt;span class=\"pos pos13\"&gt;RCM</td>\n",
       "      <td>Aug 30, 2015</td>\n",
       "      <td>NaN</td>\n",
       "      <td>2025</td>\n",
       "      <td>181cm</td>\n",
       "      <td>70kg</td>\n",
       "      <td>€198.9M</td>\n",
       "      <td>17.0</td>\n",
       "      <td>NaN</td>\n",
       "    </tr>\n",
       "    <tr>\n",
       "      <th>4</th>\n",
       "      <td>224232</td>\n",
       "      <td>N. Barella</td>\n",
       "      <td>25</td>\n",
       "      <td>https://cdn.sofifa.net/players/224/232/23_60.png</td>\n",
       "      <td>Italy</td>\n",
       "      <td>https://cdn.sofifa.net/flags/it.png</td>\n",
       "      <td>86</td>\n",
       "      <td>89</td>\n",
       "      <td>Inter</td>\n",
       "      <td>https://cdn.sofifa.net/teams/44/30.png</td>\n",
       "      <td>...</td>\n",
       "      <td>Yes</td>\n",
       "      <td>&lt;span class=\"pos pos13\"&gt;RCM</td>\n",
       "      <td>Sep 1, 2020</td>\n",
       "      <td>NaN</td>\n",
       "      <td>2026</td>\n",
       "      <td>172cm</td>\n",
       "      <td>68kg</td>\n",
       "      <td>€154.4M</td>\n",
       "      <td>23.0</td>\n",
       "      <td>NaN</td>\n",
       "    </tr>\n",
       "  </tbody>\n",
       "</table>\n",
       "<p>5 rows × 29 columns</p>\n",
       "</div>"
      ],
      "text/plain": [
       "       ID             Name  Age  \\\n",
       "0  209658      L. Goretzka   27   \n",
       "1  212198  Bruno Fernandes   27   \n",
       "2  224334         M. Acuña   30   \n",
       "3  192985     K. De Bruyne   31   \n",
       "4  224232       N. Barella   25   \n",
       "\n",
       "                                              Photo Nationality  \\\n",
       "0  https://cdn.sofifa.net/players/209/658/23_60.png     Germany   \n",
       "1  https://cdn.sofifa.net/players/212/198/23_60.png    Portugal   \n",
       "2  https://cdn.sofifa.net/players/224/334/23_60.png   Argentina   \n",
       "3  https://cdn.sofifa.net/players/192/985/23_60.png     Belgium   \n",
       "4  https://cdn.sofifa.net/players/224/232/23_60.png       Italy   \n",
       "\n",
       "                                  Flag  Overall  Potential               Club  \\\n",
       "0  https://cdn.sofifa.net/flags/de.png       87         88  FC Bayern München   \n",
       "1  https://cdn.sofifa.net/flags/pt.png       86         87  Manchester United   \n",
       "2  https://cdn.sofifa.net/flags/ar.png       85         85         Sevilla FC   \n",
       "3  https://cdn.sofifa.net/flags/be.png       91         91    Manchester City   \n",
       "4  https://cdn.sofifa.net/flags/it.png       86         89              Inter   \n",
       "\n",
       "                                 Club Logo  ... Real Face  \\\n",
       "0   https://cdn.sofifa.net/teams/21/30.png  ...       Yes   \n",
       "1   https://cdn.sofifa.net/teams/11/30.png  ...       Yes   \n",
       "2  https://cdn.sofifa.net/teams/481/30.png  ...        No   \n",
       "3   https://cdn.sofifa.net/teams/10/30.png  ...       Yes   \n",
       "4   https://cdn.sofifa.net/teams/44/30.png  ...       Yes   \n",
       "\n",
       "                      Position        Joined Loaned From  \\\n",
       "0  <span class=\"pos pos28\">SUB   Jul 1, 2018         NaN   \n",
       "1  <span class=\"pos pos15\">LCM  Jan 30, 2020         NaN   \n",
       "2    <span class=\"pos pos7\">LB  Sep 14, 2020         NaN   \n",
       "3  <span class=\"pos pos13\">RCM  Aug 30, 2015         NaN   \n",
       "4  <span class=\"pos pos13\">RCM   Sep 1, 2020         NaN   \n",
       "\n",
       "   Contract Valid Until  Height  Weight Release Clause Kit Number  \\\n",
       "0                  2026   189cm    82kg          €157M        8.0   \n",
       "1                  2026   179cm    69kg          €155M        8.0   \n",
       "2                  2024   172cm    69kg         €97.7M       19.0   \n",
       "3                  2025   181cm    70kg        €198.9M       17.0   \n",
       "4                  2026   172cm    68kg        €154.4M       23.0   \n",
       "\n",
       "  Best Overall Rating  \n",
       "0                 NaN  \n",
       "1                 NaN  \n",
       "2                 NaN  \n",
       "3                 NaN  \n",
       "4                 NaN  \n",
       "\n",
       "[5 rows x 29 columns]"
      ]
     },
     "execution_count": 4,
     "metadata": {},
     "output_type": "execute_result"
    }
   ],
   "source": [
    "import pandas as pd\n",
    "\n",
    "# Update this path with the location of your downloaded dataset\n",
    "file_path = \"FIFA23_official_data.csv\"\n",
    "\n",
    "# Load the dataset\n",
    "fifa_data = pd.read_csv(file_path)\n",
    "\n",
    "# Display the first few rows of the dataset\n",
    "fifa_data.head()\n"
   ]
  },
  {
   "cell_type": "markdown",
   "id": "30dc2bb9",
   "metadata": {},
   "source": [
    "### Results:\n",
    "The first five rows of the dataset are displayed, giving an initial view of the structure and the type of data available, including columns like player names, age, and more.\n"
   ]
  },
  {
   "cell_type": "markdown",
   "id": "f51fa5da",
   "metadata": {},
   "source": [
    "### Step 1.3: Explore the Dataset\n",
    "We will print the shape of the dataset to understand the number of rows and columns. Also, view the column names and their data types to get a sense of the dataset's structure.\n"
   ]
  },
  {
   "cell_type": "code",
   "execution_count": 5,
   "id": "93eeabda",
   "metadata": {},
   "outputs": [
    {
     "name": "stdout",
     "output_type": "stream",
     "text": [
      "Dataset Shape: (17660, 29)\n",
      "Columns:\n",
      "Index(['ID', 'Name', 'Age', 'Photo', 'Nationality', 'Flag', 'Overall',\n",
      "       'Potential', 'Club', 'Club Logo', 'Value', 'Wage', 'Special',\n",
      "       'Preferred Foot', 'International Reputation', 'Weak Foot',\n",
      "       'Skill Moves', 'Work Rate', 'Body Type', 'Real Face', 'Position',\n",
      "       'Joined', 'Loaned From', 'Contract Valid Until', 'Height', 'Weight',\n",
      "       'Release Clause', 'Kit Number', 'Best Overall Rating'],\n",
      "      dtype='object')\n"
     ]
    }
   ],
   "source": [
    "# Check the shape of the dataset\n",
    "print(f\"Dataset Shape: {fifa_data.shape}\")\n",
    "\n",
    "# View the columns in the dataset\n",
    "print(\"Columns:\")\n",
    "print(fifa_data.columns)\n"
   ]
  },
  {
   "cell_type": "markdown",
   "id": "0d0a0555",
   "metadata": {},
   "source": [
    "### Results:\n",
    "- `Dataset Shape`: Shows the total number of rows and columns, `(17660, 29)`.\n",
    "- `Columns`: Displays the names of all columns, which represent player attributes and performance metrics.\n"
   ]
  },
  {
   "cell_type": "markdown",
   "id": "d25a3035",
   "metadata": {},
   "source": [
    "### Step 1.4: Summary of the Dataset\n",
    "Generate a quick summary of the dataset, including the count of non-null values, data types, and more.\n"
   ]
  },
  {
   "cell_type": "code",
   "execution_count": 6,
   "id": "44fdc34b",
   "metadata": {},
   "outputs": [
    {
     "name": "stdout",
     "output_type": "stream",
     "text": [
      "<class 'pandas.core.frame.DataFrame'>\n",
      "RangeIndex: 17660 entries, 0 to 17659\n",
      "Data columns (total 29 columns):\n",
      " #   Column                    Non-Null Count  Dtype  \n",
      "---  ------                    --------------  -----  \n",
      " 0   ID                        17660 non-null  int64  \n",
      " 1   Name                      17660 non-null  object \n",
      " 2   Age                       17660 non-null  int64  \n",
      " 3   Photo                     17660 non-null  object \n",
      " 4   Nationality               17660 non-null  object \n",
      " 5   Flag                      17660 non-null  object \n",
      " 6   Overall                   17660 non-null  int64  \n",
      " 7   Potential                 17660 non-null  int64  \n",
      " 8   Club                      17449 non-null  object \n",
      " 9   Club Logo                 17660 non-null  object \n",
      " 10  Value                     17660 non-null  object \n",
      " 11  Wage                      17660 non-null  object \n",
      " 12  Special                   17660 non-null  int64  \n",
      " 13  Preferred Foot            17660 non-null  object \n",
      " 14  International Reputation  17660 non-null  float64\n",
      " 15  Weak Foot                 17660 non-null  float64\n",
      " 16  Skill Moves               17660 non-null  float64\n",
      " 17  Work Rate                 17660 non-null  object \n",
      " 18  Body Type                 17622 non-null  object \n",
      " 19  Real Face                 17622 non-null  object \n",
      " 20  Position                  17625 non-null  object \n",
      " 21  Joined                    16562 non-null  object \n",
      " 22  Loaned From               694 non-null    object \n",
      " 23  Contract Valid Until      17299 non-null  object \n",
      " 24  Height                    17660 non-null  object \n",
      " 25  Weight                    17660 non-null  object \n",
      " 26  Release Clause            16509 non-null  object \n",
      " 27  Kit Number                17625 non-null  float64\n",
      " 28  Best Overall Rating       21 non-null     object \n",
      "dtypes: float64(4), int64(5), object(20)\n",
      "memory usage: 3.9+ MB\n"
     ]
    }
   ],
   "source": [
    "# Get a summary of the dataset\n",
    "fifa_data.info()\n"
   ]
  },
  {
   "cell_type": "markdown",
   "id": "949dd1b3",
   "metadata": {},
   "source": [
    "### Results:\n",
    "The `.info()` method provides:\n",
    "- The count of non-null values for each column.\n",
    "- The data type of each column (e.g., `int64`, `float64`, or `object` for categorical data).\n",
    "- A quick overview of potential missing values in the dataset.\n"
   ]
  },
  {
   "cell_type": "markdown",
   "id": "28bfdd33",
   "metadata": {},
   "source": [
    "### Step 1.5: Preview Statistical Summary\n",
    "Display basic statistical details like mean, median, and standard deviation for numerical columns.\n"
   ]
  },
  {
   "cell_type": "code",
   "execution_count": 8,
   "id": "f93a9d73",
   "metadata": {},
   "outputs": [
    {
     "data": {
      "text/html": [
       "<div>\n",
       "<style scoped>\n",
       "    .dataframe tbody tr th:only-of-type {\n",
       "        vertical-align: middle;\n",
       "    }\n",
       "\n",
       "    .dataframe tbody tr th {\n",
       "        vertical-align: top;\n",
       "    }\n",
       "\n",
       "    .dataframe thead th {\n",
       "        text-align: right;\n",
       "    }\n",
       "</style>\n",
       "<table border=\"1\" class=\"dataframe\">\n",
       "  <thead>\n",
       "    <tr style=\"text-align: right;\">\n",
       "      <th></th>\n",
       "      <th>ID</th>\n",
       "      <th>Age</th>\n",
       "      <th>Overall</th>\n",
       "      <th>Potential</th>\n",
       "      <th>Special</th>\n",
       "      <th>International Reputation</th>\n",
       "      <th>Weak Foot</th>\n",
       "      <th>Skill Moves</th>\n",
       "      <th>Kit Number</th>\n",
       "    </tr>\n",
       "  </thead>\n",
       "  <tbody>\n",
       "    <tr>\n",
       "      <th>count</th>\n",
       "      <td>17660.000000</td>\n",
       "      <td>17660.000000</td>\n",
       "      <td>17660.000000</td>\n",
       "      <td>17660.000000</td>\n",
       "      <td>17660.000000</td>\n",
       "      <td>17660.000000</td>\n",
       "      <td>17660.000000</td>\n",
       "      <td>17660.000000</td>\n",
       "      <td>17625.000000</td>\n",
       "    </tr>\n",
       "    <tr>\n",
       "      <th>mean</th>\n",
       "      <td>246319.424462</td>\n",
       "      <td>23.127746</td>\n",
       "      <td>63.369592</td>\n",
       "      <td>70.981200</td>\n",
       "      <td>1537.915855</td>\n",
       "      <td>1.106285</td>\n",
       "      <td>2.900340</td>\n",
       "      <td>2.297169</td>\n",
       "      <td>25.037957</td>\n",
       "    </tr>\n",
       "    <tr>\n",
       "      <th>std</th>\n",
       "      <td>31487.892861</td>\n",
       "      <td>4.639821</td>\n",
       "      <td>8.036268</td>\n",
       "      <td>6.529836</td>\n",
       "      <td>285.893809</td>\n",
       "      <td>0.407021</td>\n",
       "      <td>0.663523</td>\n",
       "      <td>0.754264</td>\n",
       "      <td>19.154116</td>\n",
       "    </tr>\n",
       "    <tr>\n",
       "      <th>min</th>\n",
       "      <td>16.000000</td>\n",
       "      <td>15.000000</td>\n",
       "      <td>43.000000</td>\n",
       "      <td>42.000000</td>\n",
       "      <td>749.000000</td>\n",
       "      <td>1.000000</td>\n",
       "      <td>1.000000</td>\n",
       "      <td>1.000000</td>\n",
       "      <td>1.000000</td>\n",
       "    </tr>\n",
       "    <tr>\n",
       "      <th>25%</th>\n",
       "      <td>240732.500000</td>\n",
       "      <td>20.000000</td>\n",
       "      <td>58.000000</td>\n",
       "      <td>67.000000</td>\n",
       "      <td>1387.000000</td>\n",
       "      <td>1.000000</td>\n",
       "      <td>3.000000</td>\n",
       "      <td>2.000000</td>\n",
       "      <td>11.000000</td>\n",
       "    </tr>\n",
       "    <tr>\n",
       "      <th>50%</th>\n",
       "      <td>257041.000000</td>\n",
       "      <td>22.000000</td>\n",
       "      <td>63.000000</td>\n",
       "      <td>71.000000</td>\n",
       "      <td>1548.000000</td>\n",
       "      <td>1.000000</td>\n",
       "      <td>3.000000</td>\n",
       "      <td>2.000000</td>\n",
       "      <td>22.000000</td>\n",
       "    </tr>\n",
       "    <tr>\n",
       "      <th>75%</th>\n",
       "      <td>263027.500000</td>\n",
       "      <td>26.000000</td>\n",
       "      <td>69.000000</td>\n",
       "      <td>75.000000</td>\n",
       "      <td>1727.000000</td>\n",
       "      <td>1.000000</td>\n",
       "      <td>3.000000</td>\n",
       "      <td>3.000000</td>\n",
       "      <td>32.000000</td>\n",
       "    </tr>\n",
       "    <tr>\n",
       "      <th>max</th>\n",
       "      <td>271340.000000</td>\n",
       "      <td>54.000000</td>\n",
       "      <td>91.000000</td>\n",
       "      <td>95.000000</td>\n",
       "      <td>2312.000000</td>\n",
       "      <td>5.000000</td>\n",
       "      <td>5.000000</td>\n",
       "      <td>5.000000</td>\n",
       "      <td>99.000000</td>\n",
       "    </tr>\n",
       "  </tbody>\n",
       "</table>\n",
       "</div>"
      ],
      "text/plain": [
       "                  ID           Age       Overall     Potential       Special  \\\n",
       "count   17660.000000  17660.000000  17660.000000  17660.000000  17660.000000   \n",
       "mean   246319.424462     23.127746     63.369592     70.981200   1537.915855   \n",
       "std     31487.892861      4.639821      8.036268      6.529836    285.893809   \n",
       "min        16.000000     15.000000     43.000000     42.000000    749.000000   \n",
       "25%    240732.500000     20.000000     58.000000     67.000000   1387.000000   \n",
       "50%    257041.000000     22.000000     63.000000     71.000000   1548.000000   \n",
       "75%    263027.500000     26.000000     69.000000     75.000000   1727.000000   \n",
       "max    271340.000000     54.000000     91.000000     95.000000   2312.000000   \n",
       "\n",
       "       International Reputation     Weak Foot   Skill Moves    Kit Number  \n",
       "count              17660.000000  17660.000000  17660.000000  17625.000000  \n",
       "mean                   1.106285      2.900340      2.297169     25.037957  \n",
       "std                    0.407021      0.663523      0.754264     19.154116  \n",
       "min                    1.000000      1.000000      1.000000      1.000000  \n",
       "25%                    1.000000      3.000000      2.000000     11.000000  \n",
       "50%                    1.000000      3.000000      2.000000     22.000000  \n",
       "75%                    1.000000      3.000000      3.000000     32.000000  \n",
       "max                    5.000000      5.000000      5.000000     99.000000  "
      ]
     },
     "execution_count": 8,
     "metadata": {},
     "output_type": "execute_result"
    }
   ],
   "source": [
    "# Display statistical summary for numerical columns\n",
    "fifa_data.describe()\n"
   ]
  },
  {
   "cell_type": "markdown",
   "id": "6387b557",
   "metadata": {},
   "source": [
    "### Results:\n",
    "The `.describe()` method outputs statistical details for numerical columns:\n",
    "- Count: Total non-missing values.\n",
    "- Mean: Average of the column.\n",
    "- Std: Standard deviation (variation in data).\n",
    "- Min, 25%, 50%, 75%, Max: Percentile values for data distribution.\n"
   ]
  },
  {
   "cell_type": "markdown",
   "id": "f85d17c3",
   "metadata": {},
   "source": [
    "## Step 2: Data Cleaning and Preparation"
   ]
  },
  {
   "cell_type": "markdown",
   "id": "ec263d95",
   "metadata": {},
   "source": [
    "Now that we have loaded and explored the dataset, the next step is to clean and prepare it for analysis. Here's what we'll do:\n",
    "\n",
    "- Handle Missing Values: Identify and address missing or null values.\n",
    "- Check for Duplicates: Remove duplicate rows if any exist.\n",
    "- Standardize Column Names: Ensure column names are clean, readable, and consistent.\n",
    "- Inspect Data Types: Convert data types where necessary for accurate analysis.\n"
   ]
  },
  {
   "cell_type": "markdown",
   "id": "90eb6cdc",
   "metadata": {},
   "source": [
    "### Step 2.1: Identify Missing Values\n",
    "Check for missing values in the dataset to identify columns that need cleaning or imputation.\n"
   ]
  },
  {
   "cell_type": "code",
   "execution_count": 19,
   "id": "32115a50",
   "metadata": {},
   "outputs": [
    {
     "name": "stdout",
     "output_type": "stream",
     "text": [
      "Number of Columns with missing values: 10\n",
      "Columns with missing values:\n",
      "Club                      211\n",
      "Body Type                  38\n",
      "Real Face                  38\n",
      "Position                   35\n",
      "Joined                   1098\n",
      "Loaned From             16966\n",
      "Contract Valid Until      361\n",
      "Release Clause           1151\n",
      "Kit Number                 35\n",
      "Best Overall Rating     17639\n",
      "dtype: int64\n"
     ]
    }
   ],
   "source": [
    "# Check for missing values\n",
    "missing_values = fifa_data.isnull().sum()\n",
    "\n",
    "# Display columns with missing values\n",
    "print(\"Number of Columns with missing values:\",len(missing_values[missing_values > 0]))\n",
    "print(\"Columns with missing values:\")\n",
    "print(missing_values[missing_values > 0])"
   ]
  },
  {
   "cell_type": "markdown",
   "id": "b3d26b47",
   "metadata": {},
   "source": [
    "### Results:\n",
    "As we see there is 10 columns with missing values like `Club` , `Body Type` ..., but `Best Overall Rating` and `Loaned From` are two columns with big number of missing values\n"
   ]
  },
  {
   "cell_type": "markdown",
   "id": "211d4004",
   "metadata": {},
   "source": [
    "### Step 2.2: Handle Missing Values\n",
    "Based on the results from Step 2.1 we see that we need different ways to handle missing values for each column because we have different types of columns.\n"
   ]
  },
  {
   "cell_type": "markdown",
   "id": "420136d1",
   "metadata": {},
   "source": [
    "### Handle missing values for each column\n",
    "#### `Club (211)`\n",
    "Missing for free agents or players without a club, replace with \"Free Agent\""
   ]
  },
  {
   "cell_type": "code",
   "execution_count": 23,
   "id": "cadfa9c2",
   "metadata": {},
   "outputs": [],
   "source": [
    "fifa_data[\"Club\"] = fifa_data[\"Club\"].fillna(\"Free Agent\")"
   ]
  },
  {
   "cell_type": "markdown",
   "id": "53c18eda",
   "metadata": {},
   "source": [
    "#### `Body Type (38)`\n",
    "This Column Represents the physical build of a player, replace with the most frequent value (mode)"
   ]
  },
  {
   "cell_type": "code",
   "execution_count": 25,
   "id": "acabe5c5",
   "metadata": {},
   "outputs": [],
   "source": [
    "fifa_data[\"Body Type\"] = fifa_data[\"Body Type\"].fillna(fifa_data[\"Body Type\"].mode()[0])"
   ]
  },
  {
   "cell_type": "markdown",
   "id": "8dd5632d",
   "metadata": {},
   "source": [
    "#### `Real Face (38)`\n",
    "Indicates if the player's face is scanned into the game, replace with \"No\" for missing"
   ]
  },
  {
   "cell_type": "code",
   "execution_count": 26,
   "id": "56212112",
   "metadata": {},
   "outputs": [],
   "source": [
    "fifa_data[\"Real Face\"] = fifa_data[\"Real Face\"].fillna(\"No\")"
   ]
  },
  {
   "cell_type": "markdown",
   "id": "14bab710",
   "metadata": {},
   "source": [
    "#### `Position (35)`\n",
    "Represents a player's field position, replace missing values with \"Unknown\" because we can't use the mode for example because position is very changinf from player to an other also it's important factor"
   ]
  },
  {
   "cell_type": "code",
   "execution_count": 27,
   "id": "77f4d50b",
   "metadata": {},
   "outputs": [],
   "source": [
    "fifa_data[\"Position\"] = fifa_data[\"Position\"].fillna(\"Position\")"
   ]
  },
  {
   "cell_type": "markdown",
   "id": "6820a0c3",
   "metadata": {},
   "source": [
    "#### `Joined (1098)`\n",
    "Date when the player joined the current club, replace missing values with \"Not Available\""
   ]
  },
  {
   "cell_type": "code",
   "execution_count": 28,
   "id": "a1764f85",
   "metadata": {},
   "outputs": [],
   "source": [
    "fifa_data[\"Joined\"] = fifa_data[\"Joined\"].fillna(\"Not Available\")"
   ]
  },
  {
   "cell_type": "markdown",
   "id": "f88c094f",
   "metadata": {},
   "source": [
    "#### `Loaned From (16966 missing)`\n",
    "Parent club for loaned players, replace missing values with \"Not Loaned\""
   ]
  },
  {
   "cell_type": "code",
   "execution_count": 29,
   "id": "74ae58fe",
   "metadata": {},
   "outputs": [],
   "source": [
    "fifa_data[\"Loaned From\"] = fifa_data[\"Loaned From\"].fillna(\"Not Loaned\")"
   ]
  },
  {
   "cell_type": "markdown",
   "id": "c2732b6f",
   "metadata": {},
   "source": [
    "#### `Contract Valid Until (361 missing)`\n",
    "Indicates the contract's end date. Missing values might mean players without a club or undefined contracts.\n",
    "Replace with a default value such as \"Not Available.\""
   ]
  },
  {
   "cell_type": "code",
   "execution_count": 30,
   "id": "8a38534f",
   "metadata": {},
   "outputs": [],
   "source": [
    "fifa_data[\"Contract Valid Until\"] = fifa_data[\"Contract Valid Until\"].fillna(\"Not Available\")"
   ]
  },
  {
   "cell_type": "markdown",
   "id": "2adcbf11",
   "metadata": {},
   "source": [
    "#### `Release Clause (1151 missing)`\n",
    "Indicates the buyout clause value. Missing for free agents or players without a release clause.\n",
    "Replace with 0 (indicating no release clause)."
   ]
  },
  {
   "cell_type": "code",
   "execution_count": 32,
   "id": "5a26db31",
   "metadata": {},
   "outputs": [],
   "source": [
    "fifa_data[\"Release Clause\"] = fifa_data[\"Release Clause\"].fillna(0)"
   ]
  },
  {
   "cell_type": "markdown",
   "id": "071cc7b4",
   "metadata": {},
   "source": [
    "#### `Kit Number (35 missing)`\n",
    "Missing values for players without a club or undefined positions.\n",
    "As the kit number is not really important We can replace it with a placeholder value (e.g., 0 or -1)."
   ]
  },
  {
   "cell_type": "code",
   "execution_count": 34,
   "id": "dac62bc5",
   "metadata": {},
   "outputs": [],
   "source": [
    "fifa_data[\"Kit Number\"] = fifa_data[\"Kit Number\"].fillna(0)"
   ]
  },
  {
   "cell_type": "markdown",
   "id": "112862aa",
   "metadata": {},
   "source": [
    "#### `Best Overall Rating (17639 missing)`\n",
    "This could be a critical column for analysis. Missing values suggest players without a defined rating.\n",
    "As the rating is essential for our  analysis drop rows with missing values in this column."
   ]
  },
  {
   "cell_type": "code",
   "execution_count": 35,
   "id": "cbe0e49e",
   "metadata": {},
   "outputs": [],
   "source": [
    "fifa_data = fifa_data.dropna(subset=[\"Best Overall Rating\"])"
   ]
  },
  {
   "cell_type": "markdown",
   "id": "63fb7a3c",
   "metadata": {},
   "source": [
    "### Step 2.3: Confirm Null Values are Handled\n",
    "Verify that all null values have been addressed and ensure the dataset is ready for further analysis.\n"
   ]
  },
  {
   "cell_type": "code",
   "execution_count": 37,
   "id": "8729913a",
   "metadata": {},
   "outputs": [
    {
     "name": "stdout",
     "output_type": "stream",
     "text": [
      "All missing values have been successfully handled. No null values remain in the dataset!\n"
     ]
    }
   ],
   "source": [
    "# Check for any remaining missing values\n",
    "remaining_nulls = fifa_data.isnull().sum().sum()\n",
    "\n",
    "if remaining_nulls == 0:\n",
    "    print(\"All missing values have been successfully handled. No null values remain in the dataset!\")\n",
    "else:\n",
    "    print(f\"There are still {remaining_nulls} missing values remaining. Please review the data cleaning process.\")\n"
   ]
  },
  {
   "cell_type": "code",
   "execution_count": null,
   "id": "2c7af555",
   "metadata": {},
   "outputs": [],
   "source": []
  }
 ],
 "metadata": {
  "kernelspec": {
   "display_name": "Python 3 (ipykernel)",
   "language": "python",
   "name": "python3"
  },
  "language_info": {
   "codemirror_mode": {
    "name": "ipython",
    "version": 3
   },
   "file_extension": ".py",
   "mimetype": "text/x-python",
   "name": "python",
   "nbconvert_exporter": "python",
   "pygments_lexer": "ipython3",
   "version": "3.11.5"
  }
 },
 "nbformat": 4,
 "nbformat_minor": 5
}
